{
 "cells": [
  {
   "cell_type": "code",
   "execution_count": 9,
   "metadata": {},
   "outputs": [],
   "source": [
    "import cv2\n",
    "import numpy as np\n",
    "import keras\n",
    "from keras.layers import Conv2D,MaxPooling2D,SpatialDropout2D,Flatten,Dropout,Dense\n",
    "from keras.models import Sequential,load_model\n",
    "from keras.optimizers import adam\n",
    "from keras.preprocessing import image"
   ]
  },
  {
   "cell_type": "code",
   "execution_count": 10,
   "metadata": {},
   "outputs": [],
   "source": [
    "model=Sequential()\n",
    "\n",
    "#first layer\n",
    "model.add(Conv2D(32,(3,3),activation='relu',input_shape=(150,150,3)))\n",
    "model.add(MaxPooling2D() )\n",
    "\n",
    "#second layer\n",
    "model.add(Conv2D(32,(3,3),activation='relu'))\n",
    "model.add(MaxPooling2D() )\n",
    "\n",
    "#third layer\n",
    "model.add(Conv2D(32,(3,3),activation='relu'))\n",
    "model.add(MaxPooling2D() )\n",
    "\n",
    "#fourth layer\n",
    "model.add(Flatten())\n",
    "model.add(Dense(100,activation='relu'))\n",
    "model.add(Dense(1,activation='sigmoid'))\n",
    "\n",
    "model.compile(optimizer='adam',loss='binary_crossentropy',metrics=['accuracy'])"
   ]
  },
  {
   "cell_type": "code",
   "execution_count": 3,
   "metadata": {},
   "outputs": [],
   "source": [
    "from keras.preprocessing.image import ImageDataGenerator\n",
    "train_datagen = ImageDataGenerator(\n",
    "        rescale=1./255,\n",
    "        shear_range=0.2,\n",
    "        zoom_range=0.2,\n",
    "        horizontal_flip=True)\n",
    "\n",
    "test_datagen = ImageDataGenerator(rescale=1./255)\n"
   ]
  },
  {
   "cell_type": "code",
   "execution_count": 4,
   "metadata": {},
   "outputs": [
    {
     "name": "stdout",
     "output_type": "stream",
     "text": [
      "Found 1314 images belonging to 2 classes.\n",
      "Found 194 images belonging to 2 classes.\n"
     ]
    }
   ],
   "source": [
    "training_set = train_datagen.flow_from_directory(\n",
    "        r'C:\\Users\\Avinash\\Desktop\\FaceMask\\train',\n",
    "        target_size=(150,150),\n",
    "        batch_size=16 ,\n",
    "        class_mode='binary')\n",
    "test_set = test_datagen.flow_from_directory(\n",
    "        r'C:\\Users\\Avinash\\Desktop\\FaceMask\\test',\n",
    "        target_size=(150,150),\n",
    "        batch_size=16,\n",
    "        class_mode='binary')"
   ]
  },
  {
   "cell_type": "code",
   "execution_count": 5,
   "metadata": {},
   "outputs": [
    {
     "name": "stdout",
     "output_type": "stream",
     "text": [
      "Epoch 1/10\n",
      "83/83 [==============================] - 23s 272ms/step - loss: 0.3128 - accuracy: 0.8607 - val_loss: 0.0148 - val_accuracy: 0.9381\n",
      "Epoch 2/10\n",
      "83/83 [==============================] - 26s 311ms/step - loss: 0.1455 - accuracy: 0.9521 - val_loss: 0.9478 - val_accuracy: 0.9072\n",
      "Epoch 3/10\n",
      "83/83 [==============================] - 27s 330ms/step - loss: 0.1373 - accuracy: 0.9581 - val_loss: 1.4556 - val_accuracy: 0.9536\n",
      "Epoch 4/10\n",
      "83/83 [==============================] - 34s 408ms/step - loss: 0.0878 - accuracy: 0.9726 - val_loss: 0.0571 - val_accuracy: 0.9742\n",
      "Epoch 5/10\n",
      "83/83 [==============================] - 33s 399ms/step - loss: 0.0903 - accuracy: 0.9680 - val_loss: 0.0011 - val_accuracy: 0.9794\n",
      "Epoch 6/10\n",
      "83/83 [==============================] - 34s 410ms/step - loss: 0.1502 - accuracy: 0.9536 - val_loss: 9.4973e-04 - val_accuracy: 0.9381\n",
      "Epoch 7/10\n",
      "83/83 [==============================] - 32s 388ms/step - loss: 0.1040 - accuracy: 0.9627 - val_loss: 0.0156 - val_accuracy: 0.9588\n",
      "Epoch 8/10\n",
      "83/83 [==============================] - 32s 386ms/step - loss: 0.0729 - accuracy: 0.9734 - val_loss: 0.0688 - val_accuracy: 0.9639\n",
      "Epoch 9/10\n",
      "83/83 [==============================] - 32s 389ms/step - loss: 0.0588 - accuracy: 0.9817 - val_loss: 0.0049 - val_accuracy: 0.9639\n",
      "Epoch 10/10\n",
      "83/83 [==============================] - 32s 386ms/step - loss: 0.0553 - accuracy: 0.9810 - val_loss: 0.0115 - val_accuracy: 0.9742\n"
     ]
    }
   ],
   "source": [
    "model_saved=model.fit_generator(\n",
    "        training_set,\n",
    "        epochs=10,\n",
    "        validation_data=test_set,\n",
    "        )"
   ]
  },
  {
   "cell_type": "code",
   "execution_count": 11,
   "metadata": {},
   "outputs": [],
   "source": [
    "model.save('facemaskmodel.h5')"
   ]
  },
  {
   "cell_type": "code",
   "execution_count": 12,
   "metadata": {},
   "outputs": [],
   "source": [
    "my_model=load_model('facemaskmodel.h5')\n",
    "\n",
    "cap=cv2.VideoCapture(0)\n",
    "\n",
    "while cap.isOpened():\n",
    "    ret,img=cap.read()\n",
    "    face_img=cv2.resize(img,(150,150))\n",
    "    face_img=face_img/255.0\n",
    "    face_img=np.reshape(face_img,(150,150,3))\n",
    "    face_img=np.expand_dims(face_img,axis=0)\n",
    "    pred=my_model.predict_classes(face_img)\n",
    "    if pred[0][0]==0:\n",
    "        cv2.putText(img,'NO MASK',(250,50),cv2.FONT_HERSHEY_SIMPLEX,1,(0,0,255),4)\n",
    "    else:\n",
    "        cv2.putText(img,'MASK',(250,50),cv2.FONT_HERSHEY_SIMPLEX,1,(0,255,0),4)\n",
    "        \n",
    "    cv2.imshow('img',img)\n",
    "    \n",
    "    if cv2.waitKey(1)==ord('q'):\n",
    "        break\n",
    "    \n",
    "cap.release()\n",
    "cv2.destroyAllWindows()\n",
    "   "
   ]
  },
  {
   "cell_type": "code",
   "execution_count": null,
   "metadata": {},
   "outputs": [],
   "source": []
  }
 ],
 "metadata": {
  "kernelspec": {
   "display_name": "Python 3",
   "language": "python",
   "name": "python3"
  },
  "language_info": {
   "codemirror_mode": {
    "name": "ipython",
    "version": 3
   },
   "file_extension": ".py",
   "mimetype": "text/x-python",
   "name": "python",
   "nbconvert_exporter": "python",
   "pygments_lexer": "ipython3",
   "version": "3.7.7"
  }
 },
 "nbformat": 4,
 "nbformat_minor": 4
}
